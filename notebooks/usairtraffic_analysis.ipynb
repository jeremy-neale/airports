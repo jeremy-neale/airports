{
  "cells": [
    {
      "cell_type": "code",
      "execution_count": 2,
      "metadata": {
        "colab": {
          "base_uri": "https://localhost:8080/"
        },
        "id": "ZEudi_f6z0eJ",
        "outputId": "54f892d6-5ab3-4aeb-e924-f2298a83d4bb"
      },
      "outputs": [
        {
          "ename": "ModuleNotFoundError",
          "evalue": "No module named 'google'",
          "output_type": "error",
          "traceback": [
            "\u001b[1;31m---------------------------------------------------------------------------\u001b[0m",
            "\u001b[1;31mModuleNotFoundError\u001b[0m                       Traceback (most recent call last)",
            "Cell \u001b[1;32mIn[4], line 1\u001b[0m\n\u001b[1;32m----> 1\u001b[0m \u001b[38;5;28;01mfrom\u001b[39;00m \u001b[38;5;21;01mgoogle\u001b[39;00m\u001b[38;5;21;01m.\u001b[39;00m\u001b[38;5;21;01mcolab\u001b[39;00m \u001b[38;5;28;01mimport\u001b[39;00m drive\n\u001b[0;32m      2\u001b[0m drive\u001b[38;5;241m.\u001b[39mmount(\u001b[38;5;124m'\u001b[39m\u001b[38;5;124m/content/gdrive/\u001b[39m\u001b[38;5;124m'\u001b[39m)\n",
            "\u001b[1;31mModuleNotFoundError\u001b[0m: No module named 'google'"
          ]
        }
      ],
      "source": [
        "from google.colab import drive\n",
        "drive.mount('/content/gdrive/')"
      ]
    },
    {
      "cell_type": "code",
      "execution_count": null,
      "metadata": {
        "id": "gVUrh8Sqz6Sp"
      },
      "outputs": [],
      "source": [
        "import os\n",
        "import sys\n",
        "dir_path = '/content/gdrive/My Drive/urbcomp_fall2024/assignment_1'\n",
        "sys.path.append(dir_path)"
      ]
    },
    {
      "cell_type": "code",
      "execution_count": null,
      "metadata": {
        "colab": {
          "base_uri": "https://localhost:8080/"
        },
        "id": "P-qh6ctfxpol",
        "outputId": "1037ae13-27fc-4613-fe9b-185fcdf28520"
      },
      "outputs": [],
      "source": [
        "!python --version"
      ]
    },
    {
      "cell_type": "code",
      "execution_count": null,
      "metadata": {
        "colab": {
          "base_uri": "https://localhost:8080/"
        },
        "id": "pTFZpaSc13dh",
        "outputId": "426cf5bc-e797-46f0-8c81-13c57e835571"
      },
      "outputs": [],
      "source": [
        "# including modules\n",
        "%matplotlib inline\n",
        "import matplotlib.pyplot as plt\n",
        "import pandas as pd\n",
        "import datetime\n",
        "import seaborn as sns\n",
        "import operator\n",
        "import numpy as np\n",
        "import geopandas as gp\n",
        "%load_ext autoreload\n",
        "%autoreload 2\n",
        "from utils import airtraffic_helpers\n",
        "import networkx as nx\n",
        "import community\n",
        "import random\n",
        "from shapely.geometry import Point"
      ]
    },
    {
      "cell_type": "code",
      "execution_count": null,
      "metadata": {
        "colab": {
          "base_uri": "https://localhost:8080/"
        },
        "id": "9MQS9B8574tu",
        "outputId": "71d90d55-2977-47e1-92f0-09243a3f540c"
      },
      "outputs": [],
      "source": [
        "# Dometics airport details\n",
        "airports_df = pd.read_csv(\"{}/dataset/288804893_T_MASTER_CORD.csv\".format(dir_path))\n",
        "print('Shape of the dataframe:',airports_df.shape,'\\n')\n",
        "print('Printing one record:',airports_df[:1].T)"
      ]
    },
    {
      "cell_type": "code",
      "execution_count": null,
      "metadata": {
        "colab": {
          "base_uri": "https://localhost:8080/"
        },
        "id": "PhV2Rz5P74wl",
        "outputId": "a663e074-e5c9-42c5-a837-eb015fba0216"
      },
      "outputs": [],
      "source": [
        "# Dometics airlines connections\n",
        "trips_df = pd.read_csv(\"{}/dataset/288798530_T_T100D_MARKET_ALL_CARRIER.csv\".format(dir_path))\n",
        "print('Shape of the dataframe:',trips_df.shape,'\\n')\n",
        "print('Printing one record:',trips_df[:1].T)"
      ]
    },
    {
      "cell_type": "code",
      "execution_count": null,
      "metadata": {
        "id": "AAF9XZnF746U"
      },
      "outputs": [],
      "source": [
        "# Extracting edges - we consider a connection from one airport to another as an edge.\n",
        "# Note: these edges will be directed.\n",
        "edges = list(zip(trips_df['ORIGIN_AIRPORT_ID'],trips_df['DEST_AIRPORT_ID']))"
      ]
    },
    {
      "cell_type": "code",
      "execution_count": null,
      "metadata": {
        "id": "0yHeUYBNZn5I"
      },
      "outputs": [],
      "source": [
        "# creating directed and undirected graphs based on airports and their connections\n",
        "G = nx.DiGraph()\n",
        "G.add_edges_from(edges)\n",
        "G_undirected = nx.Graph()\n",
        "G_undirected.add_edges_from(edges)"
      ]
    },
    {
      "cell_type": "code",
      "execution_count": null,
      "metadata": {
        "colab": {
          "base_uri": "https://localhost:8080/"
        },
        "id": "q58ekeDT75BT",
        "outputId": "ce640a48-a0f8-4751-e58b-3c5c98443fb1"
      },
      "outputs": [],
      "source": [
        "# printing the total number of nodes and edges of directed graph\n",
        "print('Total number of airports:',len(list(G.nodes)))\n",
        "print('Total number of connections:',len(list(G.edges)))"
      ]
    },
    {
      "cell_type": "code",
      "execution_count": null,
      "metadata": {
        "id": "_irNUueR75EB"
      },
      "outputs": [],
      "source": [
        "# creating a GeoDataframe for plotting airports on a map\n",
        "airport_ids = list(G.nodes)\n",
        "edgelist = list(G.edges)\n",
        "geo_stations = airtraffic_helpers.get_geodataframe_airports(airports_df,airport_ids)"
      ]
    },
    {
      "cell_type": "code",
      "execution_count": null,
      "metadata": {
        "colab": {
          "base_uri": "https://localhost:8080/",
          "height": 451
        },
        "id": "JbEERLjDEn8U",
        "outputId": "0065686e-5c5e-4eba-a396-bb4440462c74"
      },
      "outputs": [],
      "source": [
        "# reading the shape file of US\n",
        "shp_us = gp.GeoDataFrame.from_file(\"{}/dataset/Igismap/Alabama_AL4_US_Poly.shp\".format(dir_path))\n",
        "shp_us=shp_us.to_crs({'init':'epsg:4326'})\n",
        "shp_us.plot(figsize=(100,100),color='g',alpha=0.75)"
      ]
    },
    {
      "cell_type": "code",
      "execution_count": null,
      "metadata": {
        "colab": {
          "base_uri": "https://localhost:8080/",
          "height": 341
        },
        "id": "njb54xGlEn_T",
        "outputId": "c7c2b092-f6fe-4682-bf6b-e2858822b170"
      },
      "outputs": [],
      "source": [
        "# plotting the nodes in the shape file of US\n",
        "plt.style.use(\"default\")\n",
        "%matplotlib inline\n",
        "fig, ax = plt.subplots(1,1,figsize=(50,50))\n",
        "base = shp_us.plot(ax=ax, color='gray', alpha=0.2)\n",
        "geo_stations.plot(ax=base, marker=\"o\", color=\"r\", markersize=10,alpha=0.8, zorder=0)\n",
        "_ = ax.axis('off')\n",
        "ax.set_title(\"Plot of airports in United States\",fontsize=20)\n",
        "fig.tight_layout()\n",
        "fig.savefig(\"{}/figures/us_airports_nodes.pdf\".format(dir_path))"
      ]
    },
    {
      "cell_type": "code",
      "execution_count": null,
      "metadata": {
        "colab": {
          "base_uri": "https://localhost:8080/",
          "height": 537
        },
        "id": "4PAbEqmDEov0",
        "outputId": "8c212074-b98e-4311-ce98-edb98914c6a2"
      },
      "outputs": [],
      "source": [
        "# displaying the network based on actual geographical placement of nodes\n",
        "position_dict = {} # will contain the node coordinates\n",
        "for item in list(geo_stations.station_ids):\n",
        "  position_dict[item] = geo_stations[geo_stations.station_ids==item].geometry.values[0].x,geo_stations[geo_stations.station_ids==item].geometry.values[0].y\n",
        "fig, ax = plt.subplots(1,1,figsize=(100,40))\n",
        "nx.draw(G,pos=position_dict)\n",
        "fig.tight_layout()\n",
        "fig.savefig(\"{}/figures/us_airports_network_withposition.pdf\".format(dir_path))"
      ]
    },
    {
      "cell_type": "code",
      "execution_count": null,
      "metadata": {
        "colab": {
          "base_uri": "https://localhost:8080/",
          "height": 1000
        },
        "id": "zsz_qBFX_fUz",
        "outputId": "8285c007-765c-460f-c145-75034f161551"
      },
      "outputs": [],
      "source": [
        "# displaying the network with optimal placement of nodes\n",
        "airtraffic_helpers.plot_network(G,title=\"\",edgealpha=0.08,node_dist=1,nodesize=20,savefig=False,figsize=(15,15))"
      ]
    },
    {
      "cell_type": "markdown",
      "metadata": {
        "id": "4V987YlLSzk7"
      },
      "source": [
        "## Strongly And Weakly Connected Components"
      ]
    },
    {
      "cell_type": "code",
      "execution_count": null,
      "metadata": {
        "colab": {
          "base_uri": "https://localhost:8080/",
          "height": 508
        },
        "id": "VS88HVKISzk8",
        "outputId": "458189f6-b647-4e7b-e5ed-0cb2b6bc5934"
      },
      "outputs": [],
      "source": [
        "#Strongly Connected Components\n",
        "scc=[list(l) for l in nx.strongly_connected_components(G)]  #Strongly Connected Components\n",
        "print(\"Number of Strongly Connected Components\",len(scc),\"\\nSample Strongly Connected Components\",scc[:3])\n",
        "plt.plot(list(sorted(map(lambda x: len(x),scc),reverse=True)))\n",
        "plt.xlabel(\"Number of Strongly Connected Components\",fontsize=14)\n",
        "plt.ylabel(\"Number of Nodes Per Component\",fontsize=14)"
      ]
    },
    {
      "cell_type": "code",
      "execution_count": null,
      "metadata": {
        "colab": {
          "base_uri": "https://localhost:8080/",
          "height": 533
        },
        "id": "r-I4WNq6SzlD",
        "outputId": "21ee74b5-d185-4ec5-d440-9803b47dd696"
      },
      "outputs": [],
      "source": [
        "# Weakly Connected Components\n",
        "wcc=[list(l) for l in nx.weakly_connected_components(G)]  #Strongly Connected Components\n",
        "print(\"Number of Weakly Connected Components\",len(wcc),\"\\nSample Weakly Connected Components\",wcc[:3])\n",
        "plt.plot(list(sorted(map(lambda x: len(x),wcc),reverse=True)))\n",
        "plt.xlabel(\"Number of Weakly Connected Components\",fontsize=18)\n",
        "plt.ylabel(\"Number of Nodes Per Component\",fontsize=18)"
      ]
    },
    {
      "cell_type": "markdown",
      "metadata": {
        "id": "Teif263BSzlJ"
      },
      "source": [
        "## Plot Degree Distribution"
      ]
    },
    {
      "cell_type": "code",
      "execution_count": null,
      "metadata": {
        "colab": {
          "base_uri": "https://localhost:8080/"
        },
        "id": "_TK7q0htqRlP",
        "outputId": "5dd4a9b0-5dcb-4494-dddc-5f3e4c45ac2c"
      },
      "outputs": [],
      "source": [
        "# node degree calculation\n",
        "node_indegrees=[item for item in dict(G.in_degree()).items()]\n",
        "node_outdegrees=[item for item in dict(G.out_degree()).items()]\n",
        "sorted_indegrees=sorted(node_indegrees,key=operator.itemgetter(1),reverse=True)\n",
        "sorted_outdegrees=sorted(node_outdegrees,key=operator.itemgetter(1),reverse=True)\n",
        "\n",
        "print(\"Sample Indegree List\",node_indegrees[:5],\"\\n\")\n",
        "print(\"Sorted In Decreasing Order of Indegrees\",sorted_indegrees[:5],\"\\n\")\n",
        "print(\"Sample Outdegree List\",node_outdegrees[:5],\"\\n\")\n",
        "print(\"Sorted In Decreasing Order of Outdegree\",sorted_outdegrees[:5],\"\\n\")\n",
        "\n",
        "node_degrees=airtraffic_helpers.getdegree(G)\n",
        "print(\"Sample degree list\",node_degrees[:5],\"\\n\")\n",
        "sorted_degrees=sorted(node_degrees,key=operator.itemgetter(1),reverse=True)\n",
        "print(\"Sorted in decreasing order of degrees\",sorted_degrees[:5],\"\\n\")"
      ]
    },
    {
      "cell_type": "code",
      "execution_count": null,
      "metadata": {
        "colab": {
          "base_uri": "https://localhost:8080/",
          "height": 667
        },
        "id": "C5lkfFvG-EqT",
        "outputId": "de045f7e-6711-48d6-9944-d366db4014cf"
      },
      "outputs": [],
      "source": [
        "# plotting the degree distribution\n",
        "sns.distplot(pd.Series(np.array(node_degrees).T[1], name=\"Degree distribution\"))"
      ]
    },
    {
      "cell_type": "code",
      "execution_count": null,
      "metadata": {
        "colab": {
          "base_uri": "https://localhost:8080/",
          "height": 556
        },
        "id": "2C6jqlhuSzlU",
        "outputId": "5d418224-ab8d-447f-8995-fa8cacee367c"
      },
      "outputs": [],
      "source": [
        "# plotting the degree-rank plot\n",
        "airtraffic_helpers.generate_degree_rank_plot(edgelist)"
      ]
    },
    {
      "cell_type": "markdown",
      "metadata": {
        "id": "3kcmbkqtS4P8"
      },
      "source": [
        "# Network density, Connected Components, diameter and shortest paths."
      ]
    },
    {
      "cell_type": "code",
      "execution_count": null,
      "metadata": {
        "colab": {
          "base_uri": "https://localhost:8080/"
        },
        "id": "SGK9LC4wJHHm",
        "outputId": "0c514e2b-7849-409c-8812-54990f911c5a"
      },
      "outputs": [],
      "source": [
        "# find network density\n",
        "print('Network density:',nx.density(G))"
      ]
    },
    {
      "cell_type": "code",
      "execution_count": null,
      "metadata": {
        "colab": {
          "base_uri": "https://localhost:8080/"
        },
        "id": "PLZ1KIc1S4P9",
        "outputId": "d89c9e8e-220f-4476-ae4a-56d511a75e88"
      },
      "outputs": [],
      "source": [
        "sub_graphs = [G_undirected.subgraph(c).copy() for c in nx.connected_components(G_undirected)]\n",
        "print('Number of connected components: ',len([k for k in sub_graphs]))"
      ]
    },
    {
      "cell_type": "code",
      "execution_count": null,
      "metadata": {
        "id": "Yp48aszrz-pD"
      },
      "outputs": [],
      "source": [
        "def custom_info(G):\n",
        "    info = []\n",
        "    info.append(f\"Graph type: {'Directed' if G.is_directed() else 'Undirected'}\")\n",
        "    info.append(f\"Number of nodes: {G.number_of_nodes()}\")\n",
        "    info.append(f\"Number of edges: {G.number_of_edges()}\")\n",
        "    return \"\\n\".join(info)"
      ]
    },
    {
      "cell_type": "code",
      "execution_count": null,
      "metadata": {
        "colab": {
          "base_uri": "https://localhost:8080/"
        },
        "id": "QzNVmPeEIv65",
        "outputId": "5bf221bb-7291-4c44-a2ae-c8f1247752b1"
      },
      "outputs": [],
      "source": [
        "# finding and plotting the giant connected component\n",
        "Gc = max(sub_graphs, key=len)\n",
        "Gc=nx.convert_node_labels_to_integers(Gc)\n",
        "Gc.name='GCC'\n",
        "print(custom_info(Gc))\n",
        "print('Diameter of the Giant connected component:',nx.diameter(Gc))\n",
        "print('Average shortest path:',nx.average_shortest_path_length(Gc))"
      ]
    },
    {
      "cell_type": "code",
      "execution_count": null,
      "metadata": {
        "colab": {
          "base_uri": "https://localhost:8080/",
          "height": 1000
        },
        "id": "vdbvrNy5I10J",
        "outputId": "31073cb2-982b-4117-f1e6-fac1d208d5f1"
      },
      "outputs": [],
      "source": [
        "# plotting the GCC\n",
        "airtraffic_helpers.plot_network(Gc,title=\"\",edgealpha=0.08,node_dist=1,nodesize=20,savefig=False,figsize=(15,15))"
      ]
    },
    {
      "cell_type": "markdown",
      "metadata": {
        "id": "KN1qxLxFEWlo"
      },
      "source": [
        "## Centrality measures"
      ]
    },
    {
      "cell_type": "code",
      "execution_count": null,
      "metadata": {
        "colab": {
          "base_uri": "https://localhost:8080/",
          "height": 470
        },
        "id": "5x753HXVEYgH",
        "outputId": "4b383e47-db68-48a1-c5e4-0e9e743f2135"
      },
      "outputs": [],
      "source": [
        "pd.Series(nx.degree_centrality(G)).sort_values().plot(kind='hist',bins=30,title=\"Degree centrality scores\")"
      ]
    },
    {
      "cell_type": "code",
      "execution_count": null,
      "metadata": {
        "colab": {
          "base_uri": "https://localhost:8080/",
          "height": 470
        },
        "id": "STlVsfkaElRV",
        "outputId": "88f66bea-fd68-4cb7-e1a9-a821a97b7b9c"
      },
      "outputs": [],
      "source": [
        "pd.Series(nx.closeness_centrality(G)).sort_values().plot(kind='hist',bins=30,title=\"Closeness centrality scores\")"
      ]
    },
    {
      "cell_type": "code",
      "execution_count": null,
      "metadata": {
        "colab": {
          "base_uri": "https://localhost:8080/",
          "height": 470
        },
        "id": "ApHshgtIFmyO",
        "outputId": "62f26888-a175-4288-b3a0-ccc179397f98"
      },
      "outputs": [],
      "source": [
        "pd.Series(nx.betweenness_centrality(G)).sort_values().plot(kind='hist',bins=30,title=\"Betweenness centrality scores\")"
      ]
    },
    {
      "cell_type": "markdown",
      "metadata": {
        "id": "dlAp9OlOP97g"
      },
      "source": [
        "# Clustering coefficient"
      ]
    },
    {
      "cell_type": "code",
      "execution_count": null,
      "metadata": {
        "colab": {
          "base_uri": "https://localhost:8080/",
          "height": 643
        },
        "id": "C5T9_F7iSzlb",
        "outputId": "1c7e9a49-90ac-41e8-c0ac-5a9ad676ef2c"
      },
      "outputs": [],
      "source": [
        "# plotting average clustering coefficient\n",
        "airtraffic_helpers.generate_clustering_coefficient_plot(G)\n",
        "clust_coeff=nx.average_clustering(G)\n",
        "print(\"Average Clustering Coefficient\",round(clust_coeff,4))"
      ]
    },
    {
      "cell_type": "markdown",
      "metadata": {
        "id": "k_tS0c78Szlf"
      },
      "source": [
        "# Node Centric Community Detection"
      ]
    },
    {
      "cell_type": "code",
      "execution_count": null,
      "metadata": {
        "id": "iM-1dLr2fo3W"
      },
      "outputs": [],
      "source": [
        "# As the network is large, we will randomly select 400 nodes for node centric community detection analysis\n",
        "airportids_subset = random.sample(airport_ids,k=300)"
      ]
    },
    {
      "cell_type": "code",
      "execution_count": null,
      "metadata": {
        "id": "XT3h4XjugeQU"
      },
      "outputs": [],
      "source": [
        "# filter edges to contain nodes only from the above generated airports subset\n",
        "edgelist_subset = []\n",
        "for item in edgelist:\n",
        "  if item[0] in airportids_subset and item[1] in airportids_subset:\n",
        "    edgelist_subset.append(item)"
      ]
    },
    {
      "cell_type": "code",
      "execution_count": null,
      "metadata": {
        "id": "r-rSj8Y0hOgS"
      },
      "outputs": [],
      "source": [
        "G_subset_undirected = nx.Graph()\n",
        "G_subset_undirected.add_edges_from(edgelist_subset)"
      ]
    },
    {
      "cell_type": "code",
      "execution_count": null,
      "metadata": {
        "colab": {
          "base_uri": "https://localhost:8080/"
        },
        "id": "KBcNMNFtSzls",
        "outputId": "62c5a1a0-6415-41c7-ad32-556e6b7cbc17"
      },
      "outputs": [],
      "source": [
        "# identifying the cliques in the network\n",
        "cl=nx.enumerate_all_cliques(G_subset_undirected)\n",
        "#print last 10 cliques\n",
        "print([l for l in cl][-10:])"
      ]
    },
    {
      "cell_type": "code",
      "execution_count": null,
      "metadata": {
        "colab": {
          "base_uri": "https://localhost:8080/"
        },
        "id": "Jx7t_RuvSzl5",
        "outputId": "c3a200a7-771e-4b76-856a-79c940b04c47"
      },
      "outputs": [],
      "source": [
        "# printing the 5 largest cliques\n",
        "print(\"5 Largest Cliques\",sorted([l for l in nx.find_cliques(G_subset_undirected)],key=lambda x: len(x),reverse=True)[:5])"
      ]
    },
    {
      "cell_type": "code",
      "execution_count": null,
      "metadata": {
        "id": "AKsXdtXW1w59"
      },
      "outputs": [],
      "source": [
        "def cliques_containing_node(G, node):\n",
        "    cliques = list(nx.find_cliques(G))\n",
        "    return [clique for clique in cliques if node in clique]"
      ]
    },
    {
      "cell_type": "code",
      "execution_count": null,
      "metadata": {
        "colab": {
          "base_uri": "https://localhost:8080/"
        },
        "id": "OzszU7_NSzmI",
        "outputId": "2d834418-8a19-4bd2-c303-c278246193e2"
      },
      "outputs": [],
      "source": [
        "# printing cliques containing Node ID 14107\n",
        "print(cliques_containing_node(G_subset_undirected,14107))"
      ]
    },
    {
      "cell_type": "code",
      "execution_count": null,
      "metadata": {
        "colab": {
          "base_uri": "https://localhost:8080/"
        },
        "id": "mw7GyUflSzmO",
        "outputId": "88b58e19-0a61-4bec-e4ce-4eca3e0a5e74"
      },
      "outputs": [],
      "source": [
        "# Find K cliques using percolation method. K=10\n",
        "print([l for l in nx.algorithms.community.k_clique_communities(G_subset_undirected,10)])"
      ]
    },
    {
      "cell_type": "code",
      "execution_count": null,
      "metadata": {
        "colab": {
          "base_uri": "https://localhost:8080/",
          "height": 979
        },
        "id": "FRQdDjudQvmH",
        "outputId": "8093e7cf-a70e-46f5-d3cb-d5b4dd4dbcfe"
      },
      "outputs": [],
      "source": [
        "# finding k-core, in this case k=12\n",
        "G_noselfloop = G_undirected\n",
        "G_noselfloop.remove_edges_from(nx.selfloop_edges(G_noselfloop))\n",
        "g_k=nx.k_core(G_noselfloop,k=12)\n",
        "airtraffic_helpers.plot_network(g_k,node_dist=4,figsize=(12,12),nodesize=10)"
      ]
    },
    {
      "cell_type": "code",
      "execution_count": null,
      "metadata": {
        "colab": {
          "base_uri": "https://localhost:8080/",
          "height": 332
        },
        "id": "QuujM_CSvUuB",
        "outputId": "a10de24a-5696-42a4-99c4-a570bdd6a0e7"
      },
      "outputs": [],
      "source": [
        "#Code to generate the shape file and station k_core visualization.\n",
        "labels=g_k.nodes()\n",
        "fig, ax = plt.subplots(1,1,figsize=(100,40))\n",
        "base = shp_us.plot(ax=ax, color='gray', alpha=0.2)\n",
        "geo_stations[geo_stations.station_ids.isin(labels)].plot(ax=base, marker=\"o\", color=\"r\", markersize=100,alpha=0.8, zorder=0)\n",
        "_ = ax.axis('off')"
      ]
    },
    {
      "cell_type": "markdown",
      "metadata": {
        "id": "dWep0mMDSzmd"
      },
      "source": [
        "# PAGERANK"
      ]
    },
    {
      "cell_type": "code",
      "execution_count": null,
      "metadata": {
        "colab": {
          "base_uri": "https://localhost:8080/"
        },
        "id": "h5Es4GkPSzmj",
        "outputId": "bf603339-46ce-4a97-aac1-88e790e45a94",
        "scrolled": false
      },
      "outputs": [],
      "source": [
        "pg_rank=sorted([l for l in nx.pagerank(G).items()],key=lambda x: x[1],reverse=True)\n",
        "print(\"Top 10 Stations By Pagerank\",pg_rank[:10])"
      ]
    },
    {
      "cell_type": "code",
      "execution_count": null,
      "metadata": {
        "colab": {
          "base_uri": "https://localhost:8080/"
        },
        "id": "BhwV-mHtSzm5",
        "outputId": "2ba6acf5-9edb-40f6-9fa0-124bdccdc09d"
      },
      "outputs": [],
      "source": [
        "hubs,authorities=nx.hits(G)\n",
        "hubs=sorted([l for l in hubs.items()],key=lambda x: x[1],reverse=True)\n",
        "authorities=sorted([l for l in authorities.items()],key=lambda x: x[1],reverse=True)\n",
        "print(\"Top 10 Biggest Hubs\",hubs[:10])\n",
        "print(\"\\nTop 10 Biggest Authorities\",authorities[:10])"
      ]
    },
    {
      "cell_type": "code",
      "execution_count": null,
      "metadata": {
        "colab": {
          "base_uri": "https://localhost:8080/",
          "height": 331
        },
        "id": "4FXknjdXSznJ",
        "outputId": "d830d81c-9028-44dc-caec-03467332e9cb"
      },
      "outputs": [],
      "source": [
        "# Top 10 pagerank nodes visualization\n",
        "labels=list(map(lambda x: x[0],pg_rank[:10]))\n",
        "fig, ax = plt.subplots(1,1,figsize=(100,40))\n",
        "base = shp_us.plot(ax=ax, color='gray', alpha=0.2)\n",
        "geo_stations[geo_stations.station_ids.isin(labels)].plot(ax=base, marker=\"o\", color=\"r\", markersize=100,alpha=0.8, zorder=0)\n",
        "_ = ax.axis('off')\n",
        "fig.tight_layout()\n",
        "fig.savefig(\"{}/figures/pagerank.pdf\".format(dir_path))"
      ]
    },
    {
      "cell_type": "code",
      "execution_count": null,
      "metadata": {
        "colab": {
          "base_uri": "https://localhost:8080/",
          "height": 331
        },
        "id": "-Pls_D3ywIKi",
        "outputId": "48721424-0ad9-470e-f231-bdca8bc5104c"
      },
      "outputs": [],
      "source": [
        "# Top 10 hubs nodes visualization\n",
        "labels=list(map(lambda x: x[0],hubs[:10]))\n",
        "fig, ax = plt.subplots(1,1,figsize=(100,40))\n",
        "base = shp_us.plot(ax=ax, color='gray', alpha=0.2)\n",
        "geo_stations[geo_stations.station_ids.isin(labels)].plot(ax=base, marker=\"o\", color=\"r\", markersize=100,alpha=0.8, zorder=0)\n",
        "_ = ax.axis('off')\n",
        "fig.tight_layout()\n",
        "fig.savefig(\"{}/figures/hubs.pdf\".format(dir_path))"
      ]
    },
    {
      "cell_type": "code",
      "execution_count": null,
      "metadata": {
        "colab": {
          "base_uri": "https://localhost:8080/",
          "height": 331
        },
        "id": "jjI80LCqwY17",
        "outputId": "94ff263e-4e7a-46c2-ec70-4c7f663b853a"
      },
      "outputs": [],
      "source": [
        "# Top 10 authorities nodes visualization\n",
        "labels=list(map(lambda x: x[0],authorities[:10]))\n",
        "fig, ax = plt.subplots(1,1,figsize=(100,40))\n",
        "base = shp_us.plot(ax=ax, color='gray', alpha=0.2)\n",
        "geo_stations[geo_stations.station_ids.isin(labels)].plot(ax=base, marker=\"o\", color=\"r\", markersize=100,alpha=0.8, zorder=0)\n",
        "_ = ax.axis('off')\n",
        "fig.tight_layout()\n",
        "fig.savefig(\"{}/figures/authorities.pdf\".format(dir_path))"
      ]
    },
    {
      "cell_type": "code",
      "execution_count": null,
      "metadata": {
        "id": "R3yNH4V-Z6jI"
      },
      "outputs": [],
      "source": []
    }
  ],
  "metadata": {
    "colab": {
      "provenance": [],
      "toc_visible": true
    },
    "kernelspec": {
      "display_name": "Python 3",
      "name": "python3"
    },
    "language_info": {
      "codemirror_mode": {
        "name": "ipython",
        "version": 3
      },
      "file_extension": ".py",
      "mimetype": "text/x-python",
      "name": "python",
      "nbconvert_exporter": "python",
      "pygments_lexer": "ipython3",
      "version": "3.11.9"
    }
  },
  "nbformat": 4,
  "nbformat_minor": 0
}
